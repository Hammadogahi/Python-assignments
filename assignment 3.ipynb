{
 "cells": [
  {
   "cell_type": "code",
   "execution_count": 20,
   "metadata": {},
   "outputs": [
    {
     "name": "stdout",
     "output_type": "stream",
     "text": [
      " Operators:\n",
      " Addition: +\n",
      " Subtraction: -\n",
      " Multiplication: *\n",
      " Division: \\ \n",
      " Square: ^\n",
      "Insert the Number3\n",
      "Insert operator^\n",
      "9.0\n"
     ]
    }
   ],
   "source": [
    "print(\" Operators:\\n Addition: +\\n Subtraction: -\\n Multiplication: *\\n Division: \\ \\n Square: ^\");\n",
    "val1 = float(input(\"Insert the Number\"));\n",
    "op = input(\"Insert operator\");\n",
    "\n",
    "for i in op:\n",
    "    if op == \"^\":\n",
    "        print(val1 * val1)\n",
    "        break\n",
    "    elif op == \"+\":\n",
    "        val2 = float(input(\"Insert the 2nd Number\"));\n",
    "        print(val1 + val2)\n",
    "    elif op == \"-\":\n",
    "        val2 = float(input(\"Insert the 2nd Number\"));\n",
    "        print(val1 - val2)\n",
    "    elif op == \"*\":\n",
    "        val2 = float(input(\"Insert the 2nd Number\"));\n",
    "        print(val1 * val2)\n",
    "    elif op == \"/\":\n",
    "        val2 = float(input(\"Insert the 2nd Number\"));\n",
    "        print(val1 / val2)\n",
    "    else:\n",
    "        print(\"Please insert a valid input\")"
   ]
  },
  {
   "cell_type": "code",
   "execution_count": 18,
   "metadata": {},
   "outputs": [
    {
     "name": "stdout",
     "output_type": "stream",
     "text": [
      "Yes! there is an integar value inside the list\n"
     ]
    }
   ],
   "source": [
    "list = [\"Hello\", \"World\", \"!\", 2];\n",
    "for i in list:\n",
    "    if type(i) == int:\n",
    "        print(\"Yes! there is a numeric value inside the list\")\n",
    "        "
   ]
  },
  {
   "cell_type": "code",
   "execution_count": 8,
   "metadata": {},
   "outputs": [
    {
     "name": "stdout",
     "output_type": "stream",
     "text": [
      "{'Name': 'Hammad', 'Age': 23, 'Gender': 'Male', 'Religion': 'Islam', 'New Key': 'Value'}\n"
     ]
    }
   ],
   "source": [
    "Dict = {\"Name\":\"Hammad\", \"Age\":23, \"Gender\":\"Male\", \"Religion\":\"Islam\"};\n",
    "Dict[\"New Key\"] = \"Value\"\n",
    "print(Dict)"
   ]
  },
  {
   "cell_type": "code",
   "execution_count": 25,
   "metadata": {},
   "outputs": [
    {
     "name": "stdout",
     "output_type": "stream",
     "text": [
      "Sum : 600\n"
     ]
    }
   ],
   "source": [
    "dict = {'a': 100, 'b':200, 'c':300} \n",
    "def returnSum(dict): \n",
    "      \n",
    "    sum = 0\n",
    "    for i in dict.values(): \n",
    "        sum = sum + i \n",
    "       \n",
    "    return sum\n",
    "print(\"Sum :\", returnSum(dict))"
   ]
  },
  {
   "cell_type": "code",
   "execution_count": 28,
   "metadata": {},
   "outputs": [
    {
     "name": "stdout",
     "output_type": "stream",
     "text": [
      "[20, 30, -20, 60]\n"
     ]
    }
   ],
   "source": [
    "def Repeat(x): \n",
    "    _size = len(x) \n",
    "    repeated = [] \n",
    "    for i in range(_size): \n",
    "        k = i + 1\n",
    "        for j in range(k, _size): \n",
    "            if x[i] == x[j] and x[i] not in repeated: \n",
    "                repeated.append(x[i]) \n",
    "    return repeated \n",
    "list1 = [10, 20, 30, 20, 20, 30, 40, 50, -20, 60, 60, -20, -20] \n",
    "print (Repeat(list1))"
   ]
  },
  {
   "cell_type": "code",
   "execution_count": 31,
   "metadata": {},
   "outputs": [
    {
     "name": "stdout",
     "output_type": "stream",
     "text": [
      "Present,  value = 200\n",
      "Not present\n"
     ]
    }
   ],
   "source": [
    "def checkKey(dict, key): \n",
    "      \n",
    "    if key in dict.keys(): \n",
    "        print(\"Present, \", end =\" \") \n",
    "        print(\"value =\", dict[key]) \n",
    "    else: \n",
    "        print(\"Not present\") \n",
    "   \n",
    "dict = {'a': 100, 'b':200, 'c':300} \n",
    "  \n",
    "key = 'b'\n",
    "checkKey(dict, key) \n",
    "  \n",
    "key = 'w'\n",
    "checkKey(dict, key)"
   ]
  },
  {
   "cell_type": "code",
   "execution_count": null,
   "metadata": {},
   "outputs": [],
   "source": []
  }
 ],
 "metadata": {
  "kernelspec": {
   "display_name": "Python 3",
   "language": "python",
   "name": "python3"
  },
  "language_info": {
   "codemirror_mode": {
    "name": "ipython",
    "version": 3
   },
   "file_extension": ".py",
   "mimetype": "text/x-python",
   "name": "python",
   "nbconvert_exporter": "python",
   "pygments_lexer": "ipython3",
   "version": "3.7.4"
  }
 },
 "nbformat": 4,
 "nbformat_minor": 2
}
