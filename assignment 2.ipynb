{
 "cells": [
  {
   "cell_type": "code",
   "execution_count": 4,
   "metadata": {
    "scrolled": true
   },
   "outputs": [
    {
     "name": "stdout",
     "output_type": "stream",
     "text": [
      "Kindly, Insert your subject marks to Calculate the Grade\n",
      "Physics40\n",
      "Maths50\n",
      "Chemsitry70\n",
      "Urdu90\n",
      "Islamiat20\n",
      "F grade\n"
     ]
    }
   ],
   "source": [
    "print(\"Kindly, Insert your subject marks to Calculate the Grade\");\n",
    "p = int(input(\"Physics\"));\n",
    "m = int(input(\"Maths\"));\n",
    "c = int(input(\"Chemsitry\"));\n",
    "u = int(input(\"Urdu\"));\n",
    "i = int(input(\"Islamiat\"));\n",
    "total = p + m + c + u + i;\n",
    "per = (total//550)*100;\n",
    "if per < 0:\n",
    "    print(\"Wrong Input, Please enter you marks again\")\n",
    "elif per <=40:\n",
    "    print(\"F grade\")\n",
    "elif per <= 59:\n",
    "    print(\"D grade\")\n",
    "elif per <= 69:\n",
    "    print(\"B grade\")\n",
    "elif per <= 79:\n",
    "    print(\"A grade\")\n",
    "elif per <= 100:\n",
    "    print(\"A+ grade\")\n",
    "else:\n",
    "    print(\"You have inserted marks incorrectly, Please re-enter marks\")\n"
   ]
  },
  {
   "cell_type": "code",
   "execution_count": 7,
   "metadata": {},
   "outputs": [
    {
     "name": "stdout",
     "output_type": "stream",
     "text": [
      "Please enter a number-5\n",
      "Please enter a Positive Number\n"
     ]
    }
   ],
   "source": [
    "num = int(input(\"Please enter a number\"));\n",
    "ans = num % 2;\n",
    "if num < 0:\n",
    "    print(\"Please enter a Positive Number\")\n",
    "elif ans == 0:\n",
    "    print(\"The number is even\")\n",
    "else:\n",
    "    print(\"The number is odd\")"
   ]
  },
  {
   "cell_type": "code",
   "execution_count": 9,
   "metadata": {},
   "outputs": [
    {
     "name": "stdout",
     "output_type": "stream",
     "text": [
      "8\n"
     ]
    }
   ],
   "source": [
    "x = [1,2,3,4,5,6,7,8];\n",
    "print(len(x));"
   ]
  },
  {
   "cell_type": "code",
   "execution_count": 10,
   "metadata": {},
   "outputs": [
    {
     "name": "stdout",
     "output_type": "stream",
     "text": [
      "48\n"
     ]
    }
   ],
   "source": [
    "y = [1,2,5,6,7,8,9,10];\n",
    "print(sum(y));"
   ]
  },
  {
   "cell_type": "code",
   "execution_count": 11,
   "metadata": {},
   "outputs": [
    {
     "name": "stdout",
     "output_type": "stream",
     "text": [
      "66\n"
     ]
    }
   ],
   "source": [
    "lis = [11,22,33,44,55,66];\n",
    "print(max(lis));"
   ]
  },
  {
   "cell_type": "code",
   "execution_count": 16,
   "metadata": {},
   "outputs": [
    {
     "name": "stdout",
     "output_type": "stream",
     "text": [
      "[1, 1, 2, 3]\n"
     ]
    }
   ],
   "source": [
    "a = [1, 1, 2, 3, 5, 8, 13, 21, 34, 55, 89]\n",
    "\n",
    "new_list = []\n",
    "\n",
    "for item in a:\n",
    "    if item < 5:\n",
    "        new_list.append(item)\n",
    "print(new_list)"
   ]
  },
  {
   "cell_type": "code",
   "execution_count": null,
   "metadata": {},
   "outputs": [],
   "source": []
  }
 ],
 "metadata": {
  "kernelspec": {
   "display_name": "Python 3",
   "language": "python",
   "name": "python3"
  },
  "language_info": {
   "codemirror_mode": {
    "name": "ipython",
    "version": 3
   },
   "file_extension": ".py",
   "mimetype": "text/x-python",
   "name": "python",
   "nbconvert_exporter": "python",
   "pygments_lexer": "ipython3",
   "version": "3.7.4"
  }
 },
 "nbformat": 4,
 "nbformat_minor": 2
}
